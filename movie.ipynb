{
 "cells": [
  {
   "cell_type": "code",
   "execution_count": 2,
   "metadata": {
    "tags": []
   },
   "outputs": [
    {
     "output_type": "stream",
     "name": "stdout",
     "text": "Table status: ACTIVE\n"
    }
   ],
   "source": [
    "import boto3\n",
    "\n",
    "def create_movie_table(dynamodb=None):\n",
    "    if not dynamodb:\n",
    "        dynamodb = boto3.resource('dynamodb', endpoint_url=\"http://localhost:8000\")\n",
    "\n",
    "    table = dynamodb.create_table(\n",
    "        TableName='Movies1',\n",
    "        KeySchema=[\n",
    "            {\n",
    "                'AttributeName': 'year',\n",
    "                'KeyType': 'HASH'  # Partition key\n",
    "            },\n",
    "            {\n",
    "                'AttributeName': 'title',\n",
    "                'KeyType': 'RANGE'  # Sort key\n",
    "            }\n",
    "        ],\n",
    "        AttributeDefinitions=[\n",
    "            {\n",
    "                'AttributeName': 'year',\n",
    "                'AttributeType': 'N'\n",
    "            },\n",
    "            {\n",
    "                'AttributeName': 'title',\n",
    "                'AttributeType': 'S'\n",
    "            },\n",
    "\n",
    "        ],\n",
    "        ProvisionedThroughput={\n",
    "            'ReadCapacityUnits': 10,\n",
    "            'WriteCapacityUnits': 10\n",
    "        }\n",
    "    )\n",
    "    return table\n",
    "\n",
    "\n",
    "if __name__ == '__main__':\n",
    "    movie_table = create_movie_table()\n",
    "    print(\"Table status:\", movie_table.table_status)\n",
    "    "
   ]
  },
  {
   "cell_type": "code",
   "execution_count": null,
   "metadata": {},
   "outputs": [],
   "source": []
  }
 ],
 "metadata": {
  "language_info": {
   "codemirror_mode": {
    "name": "ipython",
    "version": 3
   },
   "file_extension": ".py",
   "mimetype": "text/x-python",
   "name": "python",
   "nbconvert_exporter": "python",
   "pygments_lexer": "ipython3",
   "version": "3.8.3-final"
  },
  "orig_nbformat": 2,
  "kernelspec": {
   "name": "python3",
   "display_name": "Python 3"
  }
 },
 "nbformat": 4,
 "nbformat_minor": 2
}